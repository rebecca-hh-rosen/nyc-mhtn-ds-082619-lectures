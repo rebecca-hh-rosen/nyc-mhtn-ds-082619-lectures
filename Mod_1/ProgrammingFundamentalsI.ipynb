{
 "cells": [
  {
   "cell_type": "markdown",
   "metadata": {},
   "source": [
    "# Programming Fundamentals I\n",
    "Agenda today:\n",
    "- Python as a calculator\n",
    "- Variable assignments\n",
    "- Strings\n",
    "- Built-in functions \n",
    "- Conditionals\n",
    "- Lists & Loops\n",
    "- Writing basic functions\n",
    "- Reading & Writing files\n",
    "- Dictionary\n",
    "- Tuples"
   ]
  },
  {
   "cell_type": "markdown",
   "metadata": {},
   "source": [
    "## Part 1 - Python as calculator\n",
    "Once you have learned Python, you will no longer need your calculator, because python can perform any kind of calculation for you. "
   ]
  },
  {
   "cell_type": "code",
<<<<<<< HEAD
   "execution_count": 17,
=======
   "execution_count": 27,
>>>>>>> upstream/V2
   "metadata": {},
   "outputs": [
    {
     "name": "stdout",
     "output_type": "stream",
     "text": [
      "3.3333333333333335\n",
      "3\n"
     ]
    }
   ],
   "source": [
    "# basic operations \n",
    "\n",
    "# additions\n",
    "\n",
    "# subtraction \n",
    "\n",
    "# multiplication\n",
    "\n",
    "# division of floats\n",
    "print(10 / 3)\n",
    "\n",
    "# floor division\n",
    "print(10//3)"
   ]
  },
  {
   "cell_type": "code",
<<<<<<< HEAD
   "execution_count": 18,
=======
   "execution_count": 28,
>>>>>>> upstream/V2
   "metadata": {},
   "outputs": [
    {
     "name": "stdout",
     "output_type": "stream",
     "text": [
      "1\n"
     ]
    }
   ],
   "source": [
    "# floor division or integer division: //\n",
    "\n",
    "# modulo\n",
    "print(10 % 3)"
   ]
  },
  {
   "cell_type": "code",
   "execution_count": null,
   "metadata": {
    "scrolled": true
   },
   "outputs": [],
   "source": []
  },
  {
   "cell_type": "code",
   "execution_count": null,
   "metadata": {
    "scrolled": true
   },
   "outputs": [],
   "source": []
  },
  {
   "cell_type": "markdown",
   "metadata": {},
   "source": [
    "## Part 2 - Variable Assignment \n",
    "What is a variable? <br> Variable, in python, is an object that contains different attributes and methods. We can assign variable names according to the following rules:\n",
    "- A variable name must start with a letter or the underscore character\n",
    "- A variable name cannot start with a number\n",
    "- A variable name can only contain alpha-numeric characters and underscores \n",
    "- Variable names are case-sensitive"
   ]
  },
  {
   "cell_type": "code",
<<<<<<< HEAD
   "execution_count": 19,
=======
   "execution_count": 29,
>>>>>>> upstream/V2
   "metadata": {},
   "outputs": [],
   "source": [
    "# types of variables \n",
    "# floats - numbers with floating points\n",
    "# integers\n",
    "# booleans - True or False"
   ]
  },
  {
   "cell_type": "code",
<<<<<<< HEAD
   "execution_count": 20,
=======
   "execution_count": 30,
>>>>>>> upstream/V2
   "metadata": {},
   "outputs": [
    {
     "ename": "SyntaxError",
     "evalue": "invalid syntax (<ipython-input-30-83c8dc478a0b>, line 2)",
     "output_type": "error",
     "traceback": [
      "\u001b[0;36m  File \u001b[0;32m\"<ipython-input-30-83c8dc478a0b>\"\u001b[0;36m, line \u001b[0;32m2\u001b[0m\n\u001b[0;31m    1puppy = 'murray'\u001b[0m\n\u001b[0m         ^\u001b[0m\n\u001b[0;31mSyntaxError\u001b[0m\u001b[0;31m:\u001b[0m invalid syntax\n"
     ]
    }
   ],
   "source": [
    "# assign some variables here\n",
    "1puppy = 'murray'\n",
    "description = 'murray is a black lab and he is the best'\n",
    "print(type(puppy))\n",
    "print(type(description))"
   ]
  },
  {
   "cell_type": "code",
<<<<<<< HEAD
   "execution_count": 21,
=======
   "execution_count": 31,
>>>>>>> upstream/V2
   "metadata": {},
   "outputs": [],
   "source": [
    "# print the variables"
   ]
  },
  {
   "cell_type": "markdown",
   "metadata": {},
   "source": [
    "__Updating Variables__<br>\n",
    "As we program more things, variables change and the need to update them arise. "
   ]
  },
  {
   "cell_type": "code",
<<<<<<< HEAD
   "execution_count": 22,
=======
   "execution_count": 32,
>>>>>>> upstream/V2
   "metadata": {},
   "outputs": [
    {
     "ename": "TypeError",
     "evalue": "unsupported operand type(s) for *: 'float' and 'NoneType'",
     "output_type": "error",
     "traceback": [
      "\u001b[0;31m---------------------------------------------------------------------------\u001b[0m",
      "\u001b[0;31mTypeError\u001b[0m                                 Traceback (most recent call last)",
      "\u001b[0;32m<ipython-input-22-c3311a3ee930>\u001b[0m in \u001b[0;36m<module>\u001b[0;34m\u001b[0m\n\u001b[1;32m      1\u001b[0m \u001b[0msavings\u001b[0m \u001b[0;34m=\u001b[0m \u001b[0;32mNone\u001b[0m\u001b[0;34m\u001b[0m\u001b[0;34m\u001b[0m\u001b[0m\n\u001b[1;32m      2\u001b[0m \u001b[0mconcert_ticket\u001b[0m \u001b[0;34m=\u001b[0m \u001b[0;32mNone\u001b[0m\u001b[0;34m\u001b[0m\u001b[0;34m\u001b[0m\u001b[0m\n\u001b[0;32m----> 3\u001b[0;31m \u001b[0mtax\u001b[0m \u001b[0;34m=\u001b[0m \u001b[0;36m.1\u001b[0m \u001b[0;34m*\u001b[0m \u001b[0mconcert_ticket\u001b[0m\u001b[0;34m\u001b[0m\u001b[0;34m\u001b[0m\u001b[0m\n\u001b[0m",
      "\u001b[0;31mTypeError\u001b[0m: unsupported operand type(s) for *: 'float' and 'NoneType'"
     ]
    }
   ],
   "source": [
    "savings = 1000\n",
    "concert_ticket = 100\n",
    "tax = .1 * concert_ticket"
   ]
  },
  {
   "cell_type": "markdown",
   "metadata": {},
   "source": [
    "Update the price of concert ticket"
   ]
  },
  {
   "cell_type": "code",
<<<<<<< HEAD
   "execution_count": null,
   "metadata": {},
   "outputs": [],
=======
   "execution_count": 33,
   "metadata": {},
   "outputs": [
    {
     "name": "stdout",
     "output_type": "stream",
     "text": [
      "110.0\n"
     ]
    }
   ],
>>>>>>> upstream/V2
   "source": [
    "concert_ticket = concert_ticket + tax\n",
    "print(concert_ticket)"
   ]
  },
  {
   "cell_type": "code",
<<<<<<< HEAD
   "execution_count": null,
   "metadata": {},
   "outputs": [],
=======
   "execution_count": 34,
   "metadata": {},
   "outputs": [
    {
     "name": "stdout",
     "output_type": "stream",
     "text": [
      "120.0\n"
     ]
    }
   ],
>>>>>>> upstream/V2
   "source": [
    "# updating price of concert tickets\n",
    "concert_ticket += tax\n",
    "print(concert_ticket)"
   ]
  },
  {
   "cell_type": "markdown",
   "metadata": {},
   "source": [
    "Update the amount of saving"
   ]
  },
  {
   "cell_type": "code",
<<<<<<< HEAD
   "execution_count": null,
=======
   "execution_count": 35,
>>>>>>> upstream/V2
   "metadata": {},
   "outputs": [],
   "source": [
    "# updating savings\n",
    "savings -= concert_ticket"
   ]
  },
  {
   "cell_type": "code",
<<<<<<< HEAD
   "execution_count": null,
   "metadata": {},
   "outputs": [],
=======
   "execution_count": 36,
   "metadata": {},
   "outputs": [
    {
     "name": "stdout",
     "output_type": "stream",
     "text": [
      "880.0\n"
     ]
    }
   ],
>>>>>>> upstream/V2
   "source": [
    "print(savings)"
   ]
  },
  {
   "cell_type": "markdown",
   "metadata": {},
   "source": [
    "###### Part 3 - Strings\n",
    "strings - 'abc', English words, texts, letter etcs. <br>\n",
    "We can do many different things to strings in python: we can assignment it to a variable, index letter in a string, alter or change it, and even conduct machine learning models with it (more on this in mod6)! There are many built-in functions that can only be applied to strings. Let's see some of them!"
   ]
  },
  {
   "cell_type": "markdown",
   "metadata": {},
   "source": [
    "Assign a variable to a string"
   ]
  },
  {
   "cell_type": "code",
   "execution_count": 37,
   "metadata": {},
   "outputs": [
    {
     "ename": "NameError",
     "evalue": "name 'puppy' is not defined",
     "output_type": "error",
     "traceback": [
      "\u001b[0;31m---------------------------------------------------------------------------\u001b[0m",
      "\u001b[0;31mNameError\u001b[0m                                 Traceback (most recent call last)",
      "\u001b[0;32m<ipython-input-37-93249f62766e>\u001b[0m in \u001b[0;36m<module>\u001b[0;34m\u001b[0m\n\u001b[0;32m----> 1\u001b[0;31m \u001b[0mpuppy\u001b[0m\u001b[0;34m\u001b[0m\u001b[0;34m\u001b[0m\u001b[0m\n\u001b[0m",
      "\u001b[0;31mNameError\u001b[0m: name 'puppy' is not defined"
     ]
    }
   ],
   "source": [
    "puppy"
   ]
  },
  {
   "cell_type": "markdown",
   "metadata": {},
   "source": [
    "Escaping"
   ]
  },
  {
   "cell_type": "code",
   "execution_count": 38,
   "metadata": {
    "scrolled": true
   },
   "outputs": [
    {
     "name": "stdout",
     "output_type": "stream",
     "text": [
      "its a nice day today\n",
      "it'a nice day today\n"
     ]
    }
   ],
   "source": [
    "print('its a nice day today')\n",
    "print('it\\'a nice day today')"
   ]
  },
  {
   "cell_type": "code",
   "execution_count": 39,
   "metadata": {},
   "outputs": [
    {
     "name": "stdout",
     "output_type": "stream",
     "text": [
      "it's a nice day today\n"
     ]
    }
   ],
   "source": [
    "print(\"it's a nice day today\")"
   ]
  },
  {
   "cell_type": "code",
<<<<<<< HEAD
   "execution_count": null,
=======
   "execution_count": 40,
>>>>>>> upstream/V2
   "metadata": {},
   "outputs": [
    {
     "data": {
      "text/plain": [
       "True"
      ]
     },
     "execution_count": 40,
     "metadata": {},
     "output_type": "execute_result"
    }
   ],
   "source": [
    "# equal equal vs. is --> what do you think the difference is?\n",
    "concert_ticket = 120\n",
    "num = 120\n",
    "concert_ticket == num"
   ]
  },
  {
   "cell_type": "code",
   "execution_count": 41,
   "metadata": {},
   "outputs": [
    {
     "data": {
      "text/plain": [
       "True"
      ]
     },
     "execution_count": 41,
     "metadata": {},
     "output_type": "execute_result"
    }
   ],
   "source": [
    "concert_ticket is num\n",
    "# why is python storing different objects in same memory location"
   ]
  },
  {
   "cell_type": "markdown",
   "metadata": {},
   "source": [
    "\n",
    "String concatenation"
   ]
  },
  {
   "cell_type": "code",
<<<<<<< HEAD
   "execution_count": null,
=======
   "execution_count": 42,
>>>>>>> upstream/V2
   "metadata": {
    "scrolled": true
   },
   "outputs": [],
   "source": [
    "s = 'it\\'s'  + 'a'+ 'nice' + 'day'\n",
    "print(s)\n",
    "s = 'it\\'s' + \" \" + 'a'+ \" \" + 'nice'+ \" \" + 'day'\n",
    "print(s)"
   ]
  },
  {
   "cell_type": "code",
<<<<<<< HEAD
   "execution_count": null,
   "metadata": {},
   "outputs": [],
=======
   "execution_count": 43,
   "metadata": {},
   "outputs": [
    {
     "name": "stdout",
     "output_type": "stream",
     "text": [
      "Yish and Dan are going to tell us all about class variable in a few weeks\n"
     ]
    }
   ],
>>>>>>> upstream/V2
   "source": [
    "# better string concatenation\n",
    "\n",
    "staff = ['Justin','Andrew','Robert','Yish', 'Dan', 'Fangfang','Joe']\n",
    "\n",
    "sentence_one = '{} and {} are going to tell us all about class variable in a few weeks'.format(staff[3],staff[4])\n",
    "\n",
    "print(sentence_one)\n",
    "\n"
   ]
  },
  {
   "cell_type": "code",
<<<<<<< HEAD
   "execution_count": null,
=======
   "execution_count": 44,
>>>>>>> upstream/V2
   "metadata": {},
   "outputs": [
    {
     "name": "stdout",
     "output_type": "stream",
     "text": [
      "Sean Wilson is the other lead instructor for data science\n"
     ]
    }
   ],
   "source": [
    "# f string and string concatenation\n",
<<<<<<< HEAD
    "second_instructor = 'Sean'\n",
    "print(f'{second_instructor} is the otherlead instructor for data science')"
=======
    "second_instructor = 'Sean Wilson'\n",
    "print(f'{second_instructor} is the other lead instructor for data science')"
>>>>>>> upstream/V2
   ]
  },
  {
   "cell_type": "code",
<<<<<<< HEAD
   "execution_count": null,
=======
   "execution_count": 45,
>>>>>>> upstream/V2
   "metadata": {},
   "outputs": [
    {
     "name": "stdout",
     "output_type": "stream",
     "text": [
      "There are a total of 7 staff members on campus\n"
     ]
    }
   ],
   "source": [
    "# arbitrary expression and f string\n",
    "print(f'There are a total of {len(staff)} staff members on campus')"
   ]
  },
  {
   "cell_type": "markdown",
   "metadata": {},
   "source": [
    "More f string information [here](https://realpython.com/python-f-strings/)"
   ]
  },
  {
   "cell_type": "code",
<<<<<<< HEAD
   "execution_count": 23,
=======
   "execution_count": 46,
>>>>>>> upstream/V2
   "metadata": {},
   "outputs": [
    {
     "name": "stdout",
     "output_type": "stream",
     "text": [
<<<<<<< HEAD
      "Justin is the senior program manager and Sean is the lead instructor\n",
      "I think Justin, Andrew, Robert, Yish, Dan, Fangfang, and Joe are all funny\n"
=======
      "Justinis the senior program manager and Seanis the lead instructor\n",
      "I think Justin, Andrew,Robert,Yish,Dan,FangfangandJoeare all funny\n"
>>>>>>> upstream/V2
     ]
    }
   ],
   "source": [
    "# change the following bad string formatting into better ones using either formatting or f string\n",
    "\n",
<<<<<<< HEAD
    "staff = ['Justin','Andrew','Robert','Yish', 'Dan', 'Fangfang','Joe']\n",
    "\n",
    "first = '{} is the senior program manager and {} is the lead instructor'.format(staff[0],second_instructor)\n",
    "print(first)\n",
    "\n",
    "#print ('{staff(0)} is the senior program manager and {second_instructor} is the lead instructor')\n",
    "\n",
    "#second ='I think {}, {}, {}, {}, {}, and {} are all funny'.format(staff[0:6])\n",
    "\n",
    "second = f\"I think {staff[0]}, {', '.join(staff[1:-1])}, and {staff[-1]} are all funny\"\n",
    "print (second)\n",
    "#print('I think Justin' + ',' + 'Andrew' + ',' +'Robert' + ',' + 'Yish' + ',' + 'Dan' + ',' +'Fangfang' + 'and' + 'Joe' + 'are all funny')\n",
    "\n",
    "#print(f'I think {}')\n",
    "\n"
=======
    "print('Justin'+ 'is the senior program manager and '+ 'Sean'+ 'is the lead instructor')\n",
    "print('I think Justin' + ', ' + 'Andrew' + ',' +'Robert' + ',' + 'Yish' + ',' + 'Dan' + ',' +'Fangfang' + 'and' + 'Joe' + 'are all funny')"
>>>>>>> upstream/V2
   ]
  },
  {
   "cell_type": "code",
<<<<<<< HEAD
   "execution_count": 24,
   "metadata": {},
   "outputs": [
    {
     "data": {
      "text/plain": [
       "['Joe', 'Fangfang', 'Dan', 'Yish', 'Robert', 'Andrew', 'Justin']"
      ]
     },
     "execution_count": 24,
     "metadata": {},
     "output_type": "execute_result"
    }
   ],
   "source": [
    "#how to reverse a list\n",
    "staff[::-1]"
   ]
  },
  {
   "cell_type": "markdown",
=======
   "execution_count": 47,
>>>>>>> upstream/V2
   "metadata": {},
   "outputs": [
    {
     "name": "stdout",
     "output_type": "stream",
     "text": [
      "Justin is the senior program manager and Sean is the lead instructor\n",
      "I think Justin , Andrew, Robert, Yish, Dan, Fangfang and Joe are all funny\n"
     ]
    }
   ],
   "source": [
    "print(f'{staff[0]} is the senior program manager and Sean is the lead instructor')\n",
    "print(f\"I think {staff[0]} , {', '.join(staff[1:-1])} and {staff[-1]} are all funny\")\n"
   ]
  },
  {
   "cell_type": "code",
<<<<<<< HEAD
   "execution_count": 25,
   "metadata": {},
   "outputs": [],
=======
   "execution_count": 48,
   "metadata": {},
   "outputs": [
    {
     "name": "stdout",
     "output_type": "stream",
     "text": [
      "i think ['Justin', 'Andrew', 'Robert', 'Yish', 'Dan', 'Fangfang', 'Joe'] are all funny\n"
     ]
    }
   ],
>>>>>>> upstream/V2
   "source": [
    "print(f\"i think {staff[:]} are all funny\")"
   ]
  },
  {
   "cell_type": "code",
   "execution_count": 49,
   "metadata": {},
   "outputs": [
    {
     "data": {
      "text/plain": [
       "'Justin,Andrew,Robert,Yish,Dan,Fangfang,Joe'"
      ]
     },
     "execution_count": 49,
     "metadata": {},
     "output_type": "execute_result"
    }
   ],
   "source": [
    "\",\".join(staff)"
   ]
  },
  {
   "cell_type": "code",
   "execution_count": 50,
   "metadata": {},
   "outputs": [
    {
     "data": {
      "text/plain": [
       "['Joe', 'Fangfang', 'Dan', 'Yish', 'Robert', 'Andrew', 'Justin']"
      ]
     },
     "execution_count": 50,
     "metadata": {},
     "output_type": "execute_result"
    }
   ],
   "source": [
    "# how to reverse a list?\n",
    "staff[::-1]"
   ]
  },
  {
   "cell_type": "markdown",
   "metadata": {},
   "source": [
    "## Part 4 - Built-in Functions & Methods\n",
    "Builtin functions are built into python. Different data types have different built-in functions. If you call a function on the wrong data type, you will encounter a TypeError. <br>\n",
    "[List of python builtin function](https://docs.python.org/3/library/functions.html)"
   ]
  },
  {
   "cell_type": "code",
   "execution_count": 51,
   "metadata": {},
   "outputs": [],
   "source": [
    "#def to_upper(s):\n",
    "    #return s.upper()\n",
    "#print(list(map(to_upper, staff)))"
   ]
  },
  {
   "cell_type": "code",
<<<<<<< HEAD
   "execution_count": 26,
=======
   "execution_count": 52,
>>>>>>> upstream/V2
   "metadata": {},
   "outputs": [
    {
     "name": "stdout",
     "output_type": "stream",
     "text": [
      "['The curriculum includes topics such as stats, probability, and machine learning']\n"
     ]
    }
   ],
   "source": [
    "# functions and methods for strings\n",
    "\n",
<<<<<<< HEAD
    "#.split() - split the string into a list of strings given a specific separator\n"
=======
    "#split() - split the string into a list of strings given a specific separator\n",
    "expression = \"The curriculum includes topics such as stats, probability, and machine learning\"\n",
    "print(expression.split(\"<>\"))"
>>>>>>> upstream/V2
   ]
  },
  {
   "cell_type": "code",
<<<<<<< HEAD
   "execution_count": 27,
=======
   "execution_count": 53,
>>>>>>> upstream/V2
   "metadata": {},
   "outputs": [
    {
     "data": {
      "text/plain": [
       "[100000000000000000000, 10, 3.1415926, 1]"
      ]
     },
<<<<<<< HEAD
     "execution_count": 27,
=======
     "execution_count": 53,
>>>>>>> upstream/V2
     "metadata": {},
     "output_type": "execute_result"
    }
   ],
   "source": [
    "pi = 3.1415926\n",
    "num = [1,10,pi,10**20]\n",
    "\n",
<<<<<<< HEAD
    "sorted(num)\n",
    "sorted(num)[::-1] #reverses the list"
=======
    "sorted(num)[::-1]"
>>>>>>> upstream/V2
   ]
  },
  {
   "cell_type": "code",
<<<<<<< HEAD
   "execution_count": 28,
   "metadata": {},
   "outputs": [],
   "source": [
    "#sorted(temp_string)"
=======
   "execution_count": 54,
   "metadata": {},
   "outputs": [
    {
     "data": {
      "text/plain": [
       "['The',\n",
       " 'and',\n",
       " 'as',\n",
       " 'curriculum',\n",
       " 'includes',\n",
       " 'learning',\n",
       " 'machine',\n",
       " 'probability,',\n",
       " 'stats,',\n",
       " 'such',\n",
       " 'topics']"
      ]
     },
     "execution_count": 54,
     "metadata": {},
     "output_type": "execute_result"
    }
   ],
   "source": [
    "sorted(expression.split(\" \"))"
>>>>>>> upstream/V2
   ]
  },
  {
   "cell_type": "code",
<<<<<<< HEAD
   "execution_count": 29,
   "metadata": {},
=======
   "execution_count": 55,
   "metadata": {
    "scrolled": true
   },
>>>>>>> upstream/V2
   "outputs": [
    {
     "name": "stdout",
     "output_type": "stream",
     "text": [
      "todayisagoodday\n"
     ]
    },
    {
     "data": {
      "text/plain": [
       "'t-o-d-a-y-i-s-a-g-o-o-d-d-a-y'"
      ]
     },
<<<<<<< HEAD
     "execution_count": 29,
=======
     "execution_count": 55,
>>>>>>> upstream/V2
     "metadata": {},
     "output_type": "execute_result"
    }
   ],
   "source": [
    "# string methods\n",
    "s = 'today' + 'is' + 'a' + 'good'+ 'day'\n",
    "print(s)\n",
    "\"-\".join(s)"
   ]
  },
  {
   "cell_type": "code",
<<<<<<< HEAD
   "execution_count": 30,
=======
   "execution_count": 56,
   "metadata": {},
   "outputs": [
    {
     "data": {
      "text/plain": [
       "'t-o-d-a-y-i-s-a-g-o-o-d-d-a-y'"
      ]
     },
     "execution_count": 56,
     "metadata": {},
     "output_type": "execute_result"
    }
   ],
   "source": [
    "expression.split(\" \")\n",
    "\"-\".join(s)"
   ]
  },
  {
   "cell_type": "code",
   "execution_count": 57,
>>>>>>> upstream/V2
   "metadata": {},
   "outputs": [
    {
     "ename": "AttributeError",
<<<<<<< HEAD
     "evalue": "type object 'object' has no attribute 'method'",
=======
     "evalue": "type object 'object' has no attribute 'some_method'",
>>>>>>> upstream/V2
     "output_type": "error",
     "traceback": [
      "\u001b[0;31m---------------------------------------------------------------------------\u001b[0m",
      "\u001b[0;31mAttributeError\u001b[0m                            Traceback (most recent call last)",
<<<<<<< HEAD
      "\u001b[0;32m<ipython-input-30-48a68c633359>\u001b[0m in \u001b[0;36m<module>\u001b[0;34m\u001b[0m\n\u001b[0;32m----> 1\u001b[0;31m \u001b[0mobject\u001b[0m\u001b[0;34m.\u001b[0m\u001b[0mmethod\u001b[0m\u001b[0;34m(\u001b[0m\u001b[0;34m)\u001b[0m\u001b[0;34m\u001b[0m\u001b[0;34m\u001b[0m\u001b[0m\n\u001b[0m\u001b[1;32m      2\u001b[0m \u001b[0;31m#method is a special function associated witha class (special concept which is a data type - includes string, int etc)\u001b[0m\u001b[0;34m\u001b[0m\u001b[0;34m\u001b[0m\u001b[0;34m\u001b[0m\u001b[0m\n\u001b[1;32m      3\u001b[0m \u001b[0;31m#more to follow\u001b[0m\u001b[0;34m\u001b[0m\u001b[0;34m\u001b[0m\u001b[0;34m\u001b[0m\u001b[0m\n\u001b[1;32m      4\u001b[0m \u001b[0msome_function\u001b[0m\u001b[0;34m(\u001b[0m\u001b[0mobject\u001b[0m\u001b[0;34m)\u001b[0m\u001b[0;34m\u001b[0m\u001b[0;34m\u001b[0m\u001b[0m\n",
      "\u001b[0;31mAttributeError\u001b[0m: type object 'object' has no attribute 'method'"
=======
      "\u001b[0;32m<ipython-input-57-8397e16d6e68>\u001b[0m in \u001b[0;36m<module>\u001b[0;34m\u001b[0m\n\u001b[0;32m----> 1\u001b[0;31m \u001b[0mobject\u001b[0m\u001b[0;34m.\u001b[0m\u001b[0msome_method\u001b[0m\u001b[0;34m(\u001b[0m\u001b[0;34m)\u001b[0m\u001b[0;34m\u001b[0m\u001b[0;34m\u001b[0m\u001b[0m\n\u001b[0m\u001b[1;32m      2\u001b[0m \u001b[0msome_function\u001b[0m\u001b[0;34m(\u001b[0m\u001b[0mobject\u001b[0m\u001b[0;34m)\u001b[0m\u001b[0;34m\u001b[0m\u001b[0;34m\u001b[0m\u001b[0m\n",
      "\u001b[0;31mAttributeError\u001b[0m: type object 'object' has no attribute 'some_method'"
>>>>>>> upstream/V2
     ]
    }
   ],
   "source": [
<<<<<<< HEAD
    "object.method()\n",
    "#method is a special function associated witha class (special concept which is a data type - includes string, int etc)\n",
    "#more to follow\n",
=======
    "object.some_method()\n",
>>>>>>> upstream/V2
    "some_function(object)"
   ]
  },
  {
   "cell_type": "markdown",
   "metadata": {},
   "source": [
    "**Function vs methods** <br>\n",
    "https://stackoverflow.com/questions/155609/whats-the-difference-between-a-method-and-a-function <br>\n",
    "https://data36.com/python-built-in-functions-methods-python-data-science-basics-3/"
   ]
  },
  {
   "cell_type": "markdown",
   "metadata": {},
   "source": [
    "## Part 5 - Conditionals \n",
    "__4.1 Comparators__"
   ]
  },
  {
   "cell_type": "markdown",
   "metadata": {},
   "source": [
    "<img src='meme-conditional.jpeg' width='400'>"
   ]
  },
  {
   "cell_type": "code",
<<<<<<< HEAD
   "execution_count": null,
   "metadata": {},
   "outputs": [],
=======
   "execution_count": 58,
   "metadata": {},
   "outputs": [
    {
     "data": {
      "text/plain": [
       "False"
      ]
     },
     "execution_count": 58,
     "metadata": {},
     "output_type": "execute_result"
    }
   ],
>>>>>>> upstream/V2
   "source": [
    "# as we learned previously, we have equal to == \n",
    "4 == 2\n",
    "# we also have not equal to : != \n",
    "4 != 2\n",
    "# greater than: >, or greater than or equal to >=\n",
    "4 > 2\n",
    "# less than: <, or less than or equal to <= \n",
    "4 <= 2\n",
    "# the comparators lie in the foundations of the control flow logic!"
   ]
  },
  {
   "cell_type": "markdown",
   "metadata": {},
   "source": [
    "__4.2__ Boolean Operators <br>\n",
    "- And\n",
    "- Or\n",
    "- Not "
   ]
  },
  {
   "cell_type": "markdown",
   "metadata": {},
   "source": [
    "__4.3 Conditional Statments__ <br>\n",
    "The code will execute only if the conditions are satisfied according to the rules of logic"
   ]
  },
  {
   "cell_type": "code",
<<<<<<< HEAD
   "execution_count": null,
=======
   "execution_count": 59,
>>>>>>> upstream/V2
   "metadata": {},
   "outputs": [],
   "source": [
    "# show some conditional stuff\n",
    "if \"Andrew\" in staff:\n",
    "    if \"Brandon\" in staff:\n",
    "        print(\"We have a pretty funny and awesome team\")"
   ]
  },
  {
   "cell_type": "code",
   "execution_count": null,
   "metadata": {},
   "outputs": [],
   "source": []
  },
  {
   "cell_type": "code",
<<<<<<< HEAD
   "execution_count": null,
=======
   "execution_count": 60,
>>>>>>> upstream/V2
   "metadata": {
    "scrolled": true
   },
   "outputs": [],
   "source": [
    "# incorporating elif, else"
   ]
  },
  {
   "cell_type": "code",
   "execution_count": 61,
   "metadata": {},
   "outputs": [
    {
     "ename": "SyntaxError",
     "evalue": "invalid syntax (<ipython-input-61-4e5a02f230cf>, line 2)",
     "output_type": "error",
     "traceback": [
      "\u001b[0;36m  File \u001b[0;32m\"<ipython-input-61-4e5a02f230cf>\"\u001b[0;36m, line \u001b[0;32m2\u001b[0m\n\u001b[0;31m    do something\u001b[0m\n\u001b[0m               ^\u001b[0m\n\u001b[0;31mSyntaxError\u001b[0m\u001b[0;31m:\u001b[0m invalid syntax\n"
     ]
    }
   ],
   "source": [
    "if some_condition:\n",
    "    do something\n",
    "elif some_other_conditions:\n",
    "    do something\n",
    "else:\n",
    "    do other stuff"
   ]
  },
  {
   "cell_type": "code",
   "execution_count": 62,
   "metadata": {},
   "outputs": [
    {
     "name": "stdout",
     "output_type": "stream",
     "text": [
      "['Justin', 'Andrew', 'Robert', 'Yish', 'Dan', 'Fangfang', 'Joe']\n"
     ]
    }
   ],
   "source": [
    "print(staff)"
   ]
  },
  {
   "cell_type": "code",
   "execution_count": 63,
   "metadata": {},
   "outputs": [
    {
     "name": "stdout",
     "output_type": "stream",
     "text": [
      "Justin is the current SEM\n"
     ]
    }
   ],
   "source": [
    "if \"Brandon\" in staff:\n",
    "    print(\"Brandon is the current senior education manager\")\n",
    "elif \"Justin\" in staff:\n",
    "    print(\"Justin is the current SEM\")\n",
    "else:\n",
    "    print(\"we dont have an SEM :( \")"
   ]
  },
  {
   "cell_type": "markdown",
   "metadata": {},
   "source": [
    "## Part 6 - Lists and Loops - Indexing, ranges , and appending\n",
    "__Iterating through a list__<br>\n",
    "remember that you can only iterate through an iterable!"
   ]
  },
  {
   "cell_type": "markdown",
   "metadata": {},
   "source": [
    "![dog-to-do-list](https://media.giphy.com/media/xTiTnuhyBF54B852nK/giphy.gif)\n"
   ]
  },
  {
   "cell_type": "code",
<<<<<<< HEAD
   "execution_count": null,
   "metadata": {},
   "outputs": [],
   "source": [
    "list(range(5,20,2)) #optional arguments"
   ]
  },
  {
   "cell_type": "code",
   "execution_count": null,
=======
   "execution_count": 64,
>>>>>>> upstream/V2
   "metadata": {
    "scrolled": false
   },
   "outputs": [],
   "source": [
    "# instead of doing the same things multiple times, we can put them in a loop and iterate through them \n",
    "for i in range(20):\n",
    "    print(i)"
   ]
  },
  {
   "cell_type": "code",
   "execution_count": 65,
   "metadata": {},
   "outputs": [
    {
     "data": {
      "text/plain": [
       "[0, 1, 2, 3, 4]"
      ]
     },
     "execution_count": 65,
     "metadata": {},
     "output_type": "execute_result"
    }
   ],
   "source": [
    "list(range(5))"
   ]
  },
  {
   "cell_type": "code",
   "execution_count": 66,
   "metadata": {
    "scrolled": true
   },
   "outputs": [
    {
     "data": {
      "text/plain": [
       "[5, 6, 7, 8, 9]"
      ]
     },
     "execution_count": 66,
     "metadata": {},
     "output_type": "execute_result"
    }
   ],
   "source": [
    "list(range(5,10))"
   ]
  },
  {
   "cell_type": "code",
   "execution_count": 67,
   "metadata": {},
   "outputs": [
    {
     "data": {
      "text/plain": [
       "[5, 7, 9, 11, 13, 15, 17, 19]"
      ]
     },
     "execution_count": 67,
     "metadata": {},
     "output_type": "execute_result"
    }
   ],
   "source": [
    "list(range(5,20,2))\n",
    "# optional arguments"
   ]
  },
  {
   "cell_type": "markdown",
   "metadata": {},
   "source": [
    "what does the range function do? Explore it in the cell below"
   ]
  },
  {
   "cell_type": "code",
<<<<<<< HEAD
   "execution_count": null,
=======
   "execution_count": 68,
>>>>>>> upstream/V2
   "metadata": {},
   "outputs": [
    {
     "name": "stdout",
     "output_type": "stream",
     "text": [
      "i is not less than 10, the current value of i is 1\n",
      "i is not less than 10, the current value of i is 2\n",
      "i is not less than 10, the current value of i is 3\n",
      "i is not less than 10, the current value of i is 4\n",
      "i is not less than 10, the current value of i is 5\n",
      "i is not less than 10, the current value of i is 6\n",
      "i is not less than 10, the current value of i is 7\n",
      "i is not less than 10, the current value of i is 8\n",
      "i is not less than 10, the current value of i is 9\n"
     ]
    }
   ],
   "source": [
    "# while loop - keeps going as long as the condition is satisfied\n",
    "i = 1\n",
    "while i < 10:\n",
<<<<<<< HEAD
    "    print (f'i is not less than 10, the current value of i is {i}')\n",
=======
    "    print(f\"i is not less than 10, the current value of i is {i}\")\n",
>>>>>>> upstream/V2
    "    i += 1"
   ]
  },
  {
   "cell_type": "code",
<<<<<<< HEAD
   "execution_count": null,
=======
   "execution_count": 69,
>>>>>>> upstream/V2
   "metadata": {
    "scrolled": true
   },
   "outputs": [
    {
     "name": "stdout",
     "output_type": "stream",
     "text": [
      "7\n"
     ]
    }
   ],
   "source": [
    "# you cannot loop through something that is not iterable\n",
<<<<<<< HEAD
    "# an integer is not an interval"
=======
    "count_of_staff = len(staff)\n",
    "print(count_of_staff)"
>>>>>>> upstream/V2
   ]
  },
  {
   "cell_type": "code",
<<<<<<< HEAD
   "execution_count": 31,
   "metadata": {},
   "outputs": [
    {
     "data": {
      "text/plain": [
       "['Robert', 'Yish', 'Dan', 'Fangfang', 'Joe']"
      ]
     },
     "execution_count": 31,
     "metadata": {},
     "output_type": "execute_result"
    }
   ],
   "source": [
    "#indexing\n",
    "staff[2:]"
=======
   "execution_count": 72,
   "metadata": {},
   "outputs": [
    {
     "name": "stdout",
     "output_type": "stream",
     "text": [
      "Justin\n",
      "Andrew\n",
      "Robert\n",
      "Yish\n",
      "Dan\n",
      "Fangfang\n",
      "Joe\n"
     ]
    }
   ],
   "source": [
    "for staff_member in staff:\n",
    "    print(staff_member)"
>>>>>>> upstream/V2
   ]
  },
  {
   "cell_type": "code",
<<<<<<< HEAD
   "execution_count": 32,
=======
   "execution_count": 74,
   "metadata": {},
   "outputs": [
    {
     "data": {
      "text/plain": [
       "['Robert', 'Yish', 'Dan', 'Fangfang', 'Joe']"
      ]
     },
     "execution_count": 74,
     "metadata": {},
     "output_type": "execute_result"
    }
   ],
   "source": [
    "#indexing\n",
    "staff[2:]"
   ]
  },
  {
   "cell_type": "code",
   "execution_count": 77,
>>>>>>> upstream/V2
   "metadata": {},
   "outputs": [
    {
     "name": "stdout",
     "output_type": "stream",
     "text": [
      "Yish\n",
      "Yish\n"
     ]
    }
   ],
   "source": [
<<<<<<< HEAD
    "print (staff [3])\n",
    "print (staff[-4])"
=======
    "dogs = ['Tipper','Momo','Frankie','Shelley','Simba','Dexter']\n"
   ]
  },
  {
   "cell_type": "code",
   "execution_count": 76,
   "metadata": {},
   "outputs": [
    {
     "name": "stdout",
     "output_type": "stream",
     "text": [
      "['Tipper', 'Momo', 'Frankie', 'Shelley', 'Simba', 'Tika']\n"
     ]
    }
   ],
   "source": [
    "dogs[-1] = 'Tika'\n",
    "print(dogs)"
   ]
  },
  {
   "cell_type": "code",
   "execution_count": 78,
   "metadata": {},
   "outputs": [
    {
     "name": "stdout",
     "output_type": "stream",
     "text": [
      "['Tipper', 'Momo', 'Frankie', 'Shelley', 'Simba', 'Dexter', 'Tika']\n"
     ]
    }
   ],
   "source": [
    "dogs.append('Tika')\n",
    "print(dogs)"
   ]
  },
  {
   "cell_type": "code",
   "execution_count": 79,
   "metadata": {},
   "outputs": [
    {
     "name": "stdout",
     "output_type": "stream",
     "text": [
      "['Tipper', 'Momo', 'Frankie', 'Shelley', 'Simba', 'Dexter', 'Tika', 'Momo']\n"
     ]
    }
   ],
   "source": [
    "dogs.append('Momo')\n",
    "print(dogs)"
   ]
  },
  {
   "cell_type": "code",
   "execution_count": 80,
   "metadata": {},
   "outputs": [
    {
     "data": {
      "text/plain": [
       "{'Dexter', 'Frankie', 'Momo', 'Shelley', 'Simba', 'Tika', 'Tipper'}"
      ]
     },
     "execution_count": 80,
     "metadata": {},
     "output_type": "execute_result"
    }
   ],
   "source": [
    "set(dogs)"
>>>>>>> upstream/V2
   ]
  },
  {
   "cell_type": "markdown",
   "metadata": {},
   "source": [
    "__Mutable vs Immutable?__\n",
    "- Mutable objects:\n",
    "    - list, dict, set, byte array\n",
    "- Immutable objects:\n",
    "    - int, float, complex, string, tuple, frozen set [note: immutable version of set], bytes"
   ]
  },
  {
   "cell_type": "code",
   "execution_count": null,
   "metadata": {},
   "outputs": [],
   "source": [
    "# changing items in a list"
   ]
  },
  {
   "cell_type": "code",
   "execution_count": 81,
   "metadata": {},
   "outputs": [
    {
     "ename": "TypeError",
     "evalue": "'str' object does not support item assignment",
     "output_type": "error",
     "traceback": [
      "\u001b[0;31m---------------------------------------------------------------------------\u001b[0m",
      "\u001b[0;31mTypeError\u001b[0m                                 Traceback (most recent call last)",
      "\u001b[0;32m<ipython-input-81-1cd4851c88c3>\u001b[0m in \u001b[0;36m<module>\u001b[0;34m\u001b[0m\n\u001b[1;32m      1\u001b[0m \u001b[0;31m# you cannot alter a string\u001b[0m\u001b[0;34m\u001b[0m\u001b[0;34m\u001b[0m\u001b[0;34m\u001b[0m\u001b[0m\n\u001b[1;32m      2\u001b[0m \u001b[0mdog_names\u001b[0m \u001b[0;34m=\u001b[0m \u001b[0;34m'Momo and Dexter'\u001b[0m\u001b[0;34m\u001b[0m\u001b[0;34m\u001b[0m\u001b[0m\n\u001b[0;32m----> 3\u001b[0;31m \u001b[0mdog_names\u001b[0m\u001b[0;34m[\u001b[0m\u001b[0;36m4\u001b[0m\u001b[0;34m]\u001b[0m \u001b[0;34m=\u001b[0m \u001b[0;34m'Tika'\u001b[0m\u001b[0;34m\u001b[0m\u001b[0;34m\u001b[0m\u001b[0m\n\u001b[0m",
      "\u001b[0;31mTypeError\u001b[0m: 'str' object does not support item assignment"
     ]
    }
   ],
   "source": [
    "# you cannot alter a string\n",
    "dog_names = 'Momo and Dexter'\n",
    "dog_names[4] = 'Tika'"
   ]
  },
  {
   "cell_type": "markdown",
   "metadata": {},
   "source": [
    "## Part 7. Dictionaries"
   ]
  },
  {
   "cell_type": "code",
   "execution_count": null,
   "metadata": {},
   "outputs": [],
   "source": [
    "# dictionaries\n",
    "# the syntax : {key1:'value1',key2:'value2', keyn:'valuen'}. The keys have to unique but values can be duplicate \n"
   ]
  },
  {
   "cell_type": "code",
<<<<<<< HEAD
   "execution_count": 33,
=======
   "execution_count": 94,
>>>>>>> upstream/V2
   "metadata": {},
   "outputs": [],
   "source": [
    "# create a dictionary here\n",
    "artists_and_songs = {\"John Legend\":\"Ordinary People\",\"The Black Keys\":\"Walk across water\",\"Sade\":\"Jezabel\",\n",
    "                    \"Mitski\":\"Nobody\"}"
   ]
  },
  {
   "cell_type": "code",
<<<<<<< HEAD
   "execution_count": 34,
   "metadata": {},
   "outputs": [
    {
     "ename": "SyntaxError",
     "evalue": "invalid syntax (<ipython-input-34-15b4a4face16>, line 2)",
     "output_type": "error",
     "traceback": [
      "\u001b[0;36m  File \u001b[0;32m\"<ipython-input-34-15b4a4face16>\"\u001b[0;36m, line \u001b[0;32m2\u001b[0m\n\u001b[0;31m    for artist in artists_\u001b[0m\n\u001b[0m                          ^\u001b[0m\n\u001b[0;31mSyntaxError\u001b[0m\u001b[0;31m:\u001b[0m invalid syntax\n"
     ]
    }
   ],
   "source": [
    "# you can index the dictionary above\n",
    "for artist in artists_and_songs:\n",
    "    print (artist)"
=======
   "execution_count": 85,
   "metadata": {},
   "outputs": [
    {
     "data": {
      "text/plain": [
       "'Ordinary People'"
      ]
     },
     "execution_count": 85,
     "metadata": {},
     "output_type": "execute_result"
    }
   ],
   "source": [
    "# you can index the dictionary above - dictionary is not ordered, so you have to index it by keys\n",
    "artists_and_songs[\"John Legend\"]"
>>>>>>> upstream/V2
   ]
  },
  {
   "cell_type": "code",
<<<<<<< HEAD
   "execution_count": 35,
=======
   "execution_count": 86,
>>>>>>> upstream/V2
   "metadata": {},
   "outputs": [
    {
     "name": "stdout",
     "output_type": "stream",
     "text": [
      "John Legend\n",
      "The Black Keys\n",
      "Sade\n",
      "Mitski\n"
     ]
    }
   ],
   "source": [
    "# you can also loop through the dictionary\n",
<<<<<<< HEAD
    "for song in artists_and_songs.values():\n",
    "    print (song)"
=======
    "for artist_and_song in artists_and_songs:\n",
    "    print(artist_and_song)"
>>>>>>> upstream/V2
   ]
  },
  {
   "cell_type": "code",
   "execution_count": 104,
   "metadata": {
    "scrolled": false
   },
   "outputs": [
    {
     "name": "stdout",
     "output_type": "stream",
     "text": [
      "Ordinary People\n",
      "Walk across water\n",
      "Jezabel\n",
      "Nobody\n"
     ]
    }
   ],
   "source": [
    "# hofor artist_and_song in artists_and_songs:\n",
    "for song in artists_and_songs.values():\n",
    "    print(song)"
   ]
  },
  {
   "cell_type": "code",
<<<<<<< HEAD
   "execution_count": 36,
=======
   "execution_count": null,
   "metadata": {},
   "outputs": [],
   "source": []
  },
  {
   "cell_type": "code",
   "execution_count": 95,
>>>>>>> upstream/V2
   "metadata": {
    "scrolled": false
   },
   "outputs": [
    {
     "data": {
      "text/html": [
       "<div>\n",
       "<style scoped>\n",
       "    .dataframe tbody tr th:only-of-type {\n",
       "        vertical-align: middle;\n",
       "    }\n",
       "\n",
       "    .dataframe tbody tr th {\n",
       "        vertical-align: top;\n",
       "    }\n",
       "\n",
       "    .dataframe thead th {\n",
       "        text-align: right;\n",
       "    }\n",
       "</style>\n",
       "<table border=\"1\" class=\"dataframe\">\n",
       "  <thead>\n",
       "    <tr style=\"text-align: right;\">\n",
       "      <th></th>\n",
       "      <th>artists</th>\n",
       "      <th>songs</th>\n",
       "    </tr>\n",
       "  </thead>\n",
       "  <tbody>\n",
<<<<<<< HEAD
=======
       "    <tr>\n",
       "      <th>0</th>\n",
       "      <td>NaN</td>\n",
       "      <td>NaN</td>\n",
       "    </tr>\n",
       "    <tr>\n",
       "      <th>1</th>\n",
       "      <td>NaN</td>\n",
       "      <td>NaN</td>\n",
       "    </tr>\n",
       "    <tr>\n",
       "      <th>2</th>\n",
       "      <td>NaN</td>\n",
       "      <td>NaN</td>\n",
       "    </tr>\n",
       "    <tr>\n",
       "      <th>3</th>\n",
       "      <td>NaN</td>\n",
       "      <td>NaN</td>\n",
       "    </tr>\n",
>>>>>>> upstream/V2
       "  </tbody>\n",
       "</table>\n",
       "</div>"
      ],
      "text/plain": [
<<<<<<< HEAD
       "Empty DataFrame\n",
       "Columns: [artists, songs]\n",
       "Index: []"
      ]
     },
     "execution_count": 36,
=======
       "  artists songs\n",
       "0     NaN   NaN\n",
       "1     NaN   NaN\n",
       "2     NaN   NaN\n",
       "3     NaN   NaN"
      ]
     },
     "execution_count": 95,
>>>>>>> upstream/V2
     "metadata": {},
     "output_type": "execute_result"
    }
   ],
   "source": [
    "# how to change the dictionary in a more humanly convenient format?\n",
<<<<<<< HEAD
    "# when working with nested dictionaries\n",
    "import pandas as pd\n",
    "df = pd.DataFrame(artists_and_songs, index = range(len(artists_and_songs)), columns = ['artists', 'songs'] )\n",
=======
    "import pandas as pd\n",
    "df = pd.DataFrame(artists_and_songs, index = range(len(artists_and_songs)), columns = ['artists','songs'])\n",
>>>>>>> upstream/V2
    "df.head()"
   ]
  },
  {
   "cell_type": "code",
   "execution_count": 99,
   "metadata": {},
   "outputs": [
    {
     "name": "stdout",
     "output_type": "stream",
     "text": [
      "{'1': 'one', '2': 'two'}\n"
     ]
    }
   ],
   "source": [
    "# initialize then populate a dictionary\n",
    "empty_dict = {}\n",
    "empty_dict['1'] = \"one\"\n",
    "empty_dict['2'] = \"two\"\n",
    "print(empty_dict)"
   ]
  },
  {
   "cell_type": "code",
   "execution_count": null,
   "metadata": {},
   "outputs": [],
   "source": []
  },
  {
   "cell_type": "code",
   "execution_count": null,
   "metadata": {},
   "outputs": [],
   "source": [
    "# instead of printing out the entire dictionary, print out the values or the keys \n"
   ]
  },
  {
   "cell_type": "code",
   "execution_count": null,
   "metadata": {},
   "outputs": [],
   "source": []
  },
  {
   "cell_type": "code",
<<<<<<< HEAD
   "execution_count": 37,
=======
   "execution_count": 100,
>>>>>>> upstream/V2
   "metadata": {},
   "outputs": [
    {
     "data": {
      "text/plain": [
<<<<<<< HEAD
       "False"
      ]
     },
     "execution_count": 37,
=======
       "True"
      ]
     },
     "execution_count": 100,
>>>>>>> upstream/V2
     "metadata": {},
     "output_type": "execute_result"
    }
   ],
   "source": [
    "# examining whether an item is in a dictionary\n",
    "\"John Legend\" in artists_and_songs"
   ]
  },
  {
   "cell_type": "markdown",
   "metadata": {},
   "source": [
    "## Part 9 - Functions\n",
    "Writing functions is going to be really important as a data scientist as we want to automate certain process. Storing the processes in a function allows us to replicate them. "
   ]
  },
  {
   "cell_type": "markdown",
   "metadata": {},
   "source": [
    "<img src='meme-nocomments.png' width='400'>"
   ]
  },
  {
   "cell_type": "code",
<<<<<<< HEAD
   "execution_count": 39,
   "metadata": {},
=======
   "execution_count": 105,
   "metadata": {
    "scrolled": true
   },
>>>>>>> upstream/V2
   "outputs": [
    {
     "name": "stdout",
     "output_type": "stream",
     "text": [
      "we out of time\n"
     ]
    }
   ],
   "source": [
    "# the syntax\n",
    "def my_first_function():\n",
    "    \"\"\"\n",
    "    docstrings for what my function is doing\n",
    "    some example calls here\n",
    "    my_first_function() \n",
    "    >>> some results\n",
    "    \"\"\"\n",
    "    print('we out of time')\n",
    "# the syntax of functions without argument \n",
    "##\n",
    "my_first_function()"
   ]
  },
  {
   "cell_type": "code",
<<<<<<< HEAD
   "execution_count": 40,
   "metadata": {},
=======
   "execution_count": 107,
   "metadata": {
    "scrolled": true
   },
>>>>>>> upstream/V2
   "outputs": [
    {
     "name": "stdout",
     "output_type": "stream",
     "text": [
      "\n",
      "    docstrings for what my function is doing\n",
      "    some example calls here\n",
      "    my_first_function() \n",
      "    >>> some results\n",
      "    \n"
     ]
    }
   ],
   "source": [
    "print(my_first_function.__doc__)"
   ]
  },
  {
   "cell_type": "code",
   "execution_count": null,
   "metadata": {},
   "outputs": [],
   "source": [
    "lambda_ "
   ]
  },
  {
   "cell_type": "code",
   "execution_count": 106,
   "metadata": {},
   "outputs": [
    {
     "name": "stdout",
     "output_type": "stream",
     "text": [
      "range(stop) -> range object\n",
      "range(start, stop[, step]) -> range object\n",
      "\n",
      "Return an object that produces a sequence of integers from start (inclusive)\n",
      "to stop (exclusive) by step.  range(i, j) produces i, i+1, i+2, ..., j-1.\n",
      "start defaults to 0, and stop is omitted!  range(4) produces 0, 1, 2, 3.\n",
      "These are exactly the valid indices for a list of 4 elements.\n",
      "When step is given, it specifies the increment (or decrement).\n"
     ]
    }
   ],
   "source": [
    "print(range.__doc__)"
   ]
  },
  {
   "cell_type": "code",
   "execution_count": null,
   "metadata": {
    "scrolled": true
   },
   "outputs": [],
   "source": [
    "help(range)\n"
   ]
  },
  {
   "cell_type": "code",
   "execution_count": 108,
   "metadata": {},
   "outputs": [
    {
     "name": "stdout",
     "output_type": "stream",
     "text": [
      "Help on class enumerate in module builtins:\n",
      "\n",
      "class enumerate(object)\n",
      " |  enumerate(iterable, start=0)\n",
      " |  \n",
      " |  Return an enumerate object.\n",
      " |  \n",
      " |    iterable\n",
      " |      an object supporting iteration\n",
      " |  \n",
      " |  The enumerate object yields pairs containing a count (from start, which\n",
      " |  defaults to zero) and a value yielded by the iterable argument.\n",
      " |  \n",
      " |  enumerate is useful for obtaining an indexed list:\n",
      " |      (0, seq[0]), (1, seq[1]), (2, seq[2]), ...\n",
      " |  \n",
      " |  Methods defined here:\n",
      " |  \n",
      " |  __getattribute__(self, name, /)\n",
      " |      Return getattr(self, name).\n",
      " |  \n",
      " |  __iter__(self, /)\n",
      " |      Implement iter(self).\n",
      " |  \n",
      " |  __next__(self, /)\n",
      " |      Implement next(self).\n",
      " |  \n",
      " |  __reduce__(...)\n",
      " |      Return state information for pickling.\n",
      " |  \n",
      " |  ----------------------------------------------------------------------\n",
      " |  Static methods defined here:\n",
      " |  \n",
      " |  __new__(*args, **kwargs) from builtins.type\n",
      " |      Create and return a new object.  See help(type) for accurate signature.\n",
      "\n"
     ]
    }
   ],
   "source": [
<<<<<<< HEAD
    "help(range) "
=======
    "help(enumerate)"
>>>>>>> upstream/V2
   ]
  },
  {
   "cell_type": "code",
   "execution_count": null,
   "metadata": {},
   "outputs": [],
   "source": [
    "# define a function that has no arguments "
   ]
  },
  {
   "cell_type": "code",
<<<<<<< HEAD
   "execution_count": 42,
=======
   "execution_count": 109,
>>>>>>> upstream/V2
   "metadata": {},
   "outputs": [
    {
     "name": "stdout",
     "output_type": "stream",
     "text": [
      "s\n",
      "t\n",
      "r\n",
      "i\n",
      "n\n",
      "g\n"
     ]
    }
   ],
   "source": [
    "def my_second_function(a): \n",
    "    \"\"\"\n",
    "    this function returns the input as it is\n",
    "    my_second_function('meow')\n",
    "    >>>'meow'\n",
    "    \"\"\"\n",
    "    return a\n",
    "# the syntax of functions with argument\n",
    "\n",
    "my_second_function('hat')\n",
    "\n",
    "for s in 'string':\n",
    "    print (s)"
   ]
  },
  {
   "cell_type": "code",
   "execution_count": 111,
   "metadata": {},
   "outputs": [
    {
     "ename": "TypeError",
     "evalue": "my_second_function() takes 1 positional argument but 2 were given",
     "output_type": "error",
     "traceback": [
      "\u001b[0;31m---------------------------------------------------------------------------\u001b[0m",
      "\u001b[0;31mTypeError\u001b[0m                                 Traceback (most recent call last)",
      "\u001b[0;32m<ipython-input-111-be566df79cc5>\u001b[0m in \u001b[0;36m<module>\u001b[0;34m\u001b[0m\n\u001b[0;32m----> 1\u001b[0;31m \u001b[0mmy_second_function\u001b[0m\u001b[0;34m(\u001b[0m\u001b[0;34m'writing'\u001b[0m\u001b[0;34m,\u001b[0m \u001b[0;34m'functions'\u001b[0m\u001b[0;34m)\u001b[0m\u001b[0;34m\u001b[0m\u001b[0;34m\u001b[0m\u001b[0m\n\u001b[0m",
      "\u001b[0;31mTypeError\u001b[0m: my_second_function() takes 1 positional argument but 2 were given"
     ]
    }
   ],
   "source": [
    "my_second_function('writing', 'functions')"
   ]
  },
  {
   "cell_type": "markdown",
   "metadata": {},
   "source": [
    "Define a few functions that bring everything together "
   ]
  },
  {
   "cell_type": "code",
<<<<<<< HEAD
   "execution_count": 46,
=======
   "execution_count": 113,
>>>>>>> upstream/V2
   "metadata": {},
   "outputs": [
    {
     "data": {
      "text/plain": [
       "1"
      ]
     },
<<<<<<< HEAD
     "execution_count": 46,
=======
     "execution_count": 113,
>>>>>>> upstream/V2
     "metadata": {},
     "output_type": "execute_result"
    }
   ],
   "source": [
    "# define a function that brings what we learned earlier together \n",
    "def count_repeat(s):\n",
    "    \"\"\"\n",
    "    this function takes a string as an input and output an integer\n",
    "    it counts the number of repeats in the adjacent letter\n",
    "    count_repeat('meow')\n",
    "    >>> 0\n",
    "    count_repeat('woof')\n",
    "    >>> 1\n",
    "    \"\"\"\n",
    "    repeat = 0\n",
    "    for i in range(len(s)-1):\n",
    "        if s[i] == s[i+1]:\n",
    "            repeat += 1\n",
    "    return repeat\n",
    "\n",
    "count_repeat('woof')"
   ]
  },
  {
   "cell_type": "code",
   "execution_count": null,
   "metadata": {},
   "outputs": [],
   "source": []
  },
  {
   "cell_type": "code",
   "execution_count": 56,
   "metadata": {},
   "outputs": [
    {
     "data": {
      "text/plain": [
       "'olleholleholleholleholleholleholleholleholleholleholleholleholleholleholleholleholleholleholleholleholleholleholleholleholleholleholleh'"
      ]
     },
     "execution_count": 56,
     "metadata": {},
     "output_type": "execute_result"
    }
   ],
   "source": [
    "# define a function that reverses a string \n",
    "def reverse_str(s):\n",
    "    \"\"\"\n",
    "    take a string as an input and return its reverse as an output\n",
    "    reverse_string('hello')\n",
    "    >> 'olleh'\n",
    "    \n",
    "    \"\"\"\n",
<<<<<<< HEAD
    "    reverse_string = ''\n",
    "    diff = -1\n",
    "    for i in range(len(s)):\n",
    "        reverse_string += (s[i + diff])\n",
    "        diff -= 2\n",
    "    return reverse_string\n",
    "\n",
    "reverse_str('hello')\n",
    "reverse_str('hell')\n",
    "reverse_str('')\n",
    "reverse_str('hellohello')\n",
    "#test cases are different - even and odd length, empy and super long\n"
=======
    "    return s[::-1]"
>>>>>>> upstream/V2
   ]
  },
  {
   "cell_type": "code",
<<<<<<< HEAD
   "execution_count": 55,
=======
   "execution_count": 114,
>>>>>>> upstream/V2
   "metadata": {},
   "outputs": [
    {
     "data": {
      "text/plain": [
<<<<<<< HEAD
       "2"
      ]
     },
     "execution_count": 55,
=======
       "'olleh'"
      ]
     },
     "execution_count": 114,
>>>>>>> upstream/V2
     "metadata": {},
     "output_type": "execute_result"
    }
   ],
   "source": [
<<<<<<< HEAD
    "def count_even(lst):\n",
    "    \"\"\"\n",
    "    takes in a list of numbers and return how mnay even numbers there are\n",
    "    \"\"\"\n",
    "    even_num = 0\n",
    "    for num in lst:\n",
    "        if num % 2 == 0:\n",
    "            even_num +=1\n",
    "    return even_num\n",
    "\n",
    "count_even([2,3,4,5])"
=======
    "def reverse_str(s):\n",
    "    \"\"\"\n",
    "    take a string as an input and return its reverse as an output\n",
    "    reverse_string('hello')\n",
    "    >> 'olleh'\n",
    "    \n",
    "    \"\"\"\n",
    "    reversed_ = \"\"\n",
    "    for rev in s:\n",
    "        reversed_ = rev + reversed_\n",
    "    return reversed_\n",
    "\n",
    "reverse_str('hello')"
   ]
  },
  {
   "cell_type": "code",
   "execution_count": 115,
   "metadata": {},
   "outputs": [],
   "source": [
    "# define a function that counts the occurances of even numbers in a list\n",
    "def count_even(lst):\n",
    "    \"\"\"\n",
    "    takes in a list of numbers and return how many even numbers there are\n",
    "    \"\"\"\n",
    "    return len(list(filter(lambda x:(x%2 == 0),lst)))\n"
   ]
  },
  {
   "cell_type": "code",
   "execution_count": 116,
   "metadata": {},
   "outputs": [
    {
     "data": {
      "text/plain": [
       "1"
      ]
     },
     "execution_count": 116,
     "metadata": {},
     "output_type": "execute_result"
    }
   ],
   "source": [
    "count_even([3,4,5])"
>>>>>>> upstream/V2
   ]
  },
  {
   "cell_type": "code",
   "execution_count": null,
   "metadata": {},
   "outputs": [],
   "source": [
<<<<<<< HEAD
=======
    "# define a function that splits a string \n",
>>>>>>> upstream/V2
    "def split_string(s):\n",
    "    pass"
   ]
  },
  {
   "cell_type": "code",
   "execution_count": null,
   "metadata": {
    "scrolled": true
   },
   "outputs": [],
   "source": []
  },
  {
   "cell_type": "code",
   "execution_count": null,
   "metadata": {},
   "outputs": [],
   "source": []
  },
  {
   "cell_type": "markdown",
   "metadata": {},
   "source": [
    "## Part 8 - Reflections\n",
    "\n",
    "- what are some of the situations in which you can put these methods to good use?\n",
    "\n",
    "- write a function that combine some of the materials you've learned today and share it with the class!"
   ]
  }
 ],
 "metadata": {
  "kernelspec": {
   "display_name": "Python 3",
   "language": "python",
   "name": "python3"
  },
  "language_info": {
   "codemirror_mode": {
    "name": "ipython",
    "version": 3
   },
   "file_extension": ".py",
   "mimetype": "text/x-python",
   "name": "python",
   "nbconvert_exporter": "python",
   "pygments_lexer": "ipython3",
   "version": "3.7.3"
  }
 },
 "nbformat": 4,
 "nbformat_minor": 2
}
